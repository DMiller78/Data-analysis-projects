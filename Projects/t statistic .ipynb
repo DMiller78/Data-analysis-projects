{
 "cells": [
  {
   "cell_type": "code",
   "execution_count": 1,
   "metadata": {},
   "outputs": [],
   "source": [
    "import numpy as np\n",
    "from scipy import stats"
   ]
  },
  {
   "cell_type": "code",
   "execution_count": 2,
   "metadata": {},
   "outputs": [],
   "source": [
    "N = [595, 599, 622, 606, 578] #Total number of views\n",
    "Q = [32.0, 30.0, 18.0, 51.0, 38.0]#Total number of quotes\n",
    "m = float(Q[0]/N[0])#Baseline conversion "
   ]
  },
  {
   "cell_type": "code",
   "execution_count": 3,
   "metadata": {},
   "outputs": [],
   "source": [
    "#test-statistic and conversion rates \n",
    "CR = []\n",
    "t_stat = []"
   ]
  },
  {
   "cell_type": "code",
   "execution_count": 4,
   "metadata": {},
   "outputs": [],
   "source": [
    "#Conversion Rate\n",
    "for i in range(1, len(Q)):\n",
    "    CR.append(float(Q[i]/N[i]))"
   ]
  },
  {
   "cell_type": "code",
   "execution_count": 22,
   "metadata": {},
   "outputs": [
    {
     "name": "stdout",
     "output_type": "stream",
     "text": [
      "[-4.13064884681519, -4.6443273682902095, -3.6320424568092418, -3.868372903892941, -4.13064884681519, -4.6443273682902095, -3.6320424568092418, -3.868372903892941, -4.13064884681519, -4.6443273682902095, -3.6320424568092418, -3.868372903892941, -4.13064884681519, -4.6443273682902095, -3.6320424568092418, -3.868372903892941, -4.13064884681519, -4.6443273682902095, -3.6320424568092418, -3.868372903892941, -4.13064884681519, -4.6443273682902095, -3.6320424568092418, -3.868372903892941, -3.868372903892941, -4.13064884681519, -4.6443273682902095, -3.6320424568092418, -3.868372903892941, -4.13064884681519, -4.6443273682902095, -3.6320424568092418, -3.868372903892941, -4.13064884681519, -4.6443273682902095, -3.6320424568092418, -3.868372903892941, -4.13064884681519, -4.6443273682902095, -3.6320424568092418, -3.868372903892941, -4.13064884681519, -4.6443273682902095, -3.6320424568092418, -3.868372903892941, -4.13064884681519, -4.6443273682902095, -3.6320424568092418, -3.868372903892941, -4.13064884681519, -4.6443273682902095, -3.6320424568092418, -3.868372903892941, -4.13064884681519, -4.6443273682902095, -3.6320424568092418, -3.868372903892941, -4.13064884681519, -4.6443273682902095, -3.6320424568092418, -3.868372903892941, -4.13064884681519, -4.6443273682902095, -3.6320424568092418, -3.868372903892941, -4.13064884681519, -4.6443273682902095, -3.6320424568092418, -3.868372903892941, -4.13064884681519, -4.6443273682902095, -3.6320424568092418, -3.868372903892941]\n"
     ]
    }
   ],
   "source": [
    "#Test-statistic\n",
    "for i in range(len(CR)):\n",
    "    t_stat.append((CR[i]-m/np.sqrt((CR[i]*(1-CR[i])/N[i])+m*(1-m)/N[0])))\n",
    "print(t_stat)\n"
   ]
  },
  {
   "cell_type": "code",
   "execution_count": 34,
   "metadata": {},
   "outputs": [],
   "source": [
    "from scipy.stats import t\n",
    "import matplotlib.pyplot as plt\n",
    "fig, ax = plt.subplots(1, 1)"
   ]
  },
  {
   "cell_type": "code",
   "execution_count": 35,
   "metadata": {},
   "outputs": [],
   "source": [
    "df = 2.74335149908\n",
    "mean, var, skew, kurt = t.stats(df, moments='mvsk')"
   ]
  },
  {
   "cell_type": "code",
   "execution_count": 36,
   "metadata": {},
   "outputs": [
    {
     "data": {
      "text/plain": [
       "[<matplotlib.lines.Line2D at 0x1720de20320>]"
      ]
     },
     "execution_count": 36,
     "metadata": {},
     "output_type": "execute_result"
    }
   ],
   "source": [
    "x = np.linspace(t.ppf(0.01, df),\n",
    "...               t.ppf(0.99, df), 100)\n",
    "ax.plot(x, t.pdf(x, df),\n",
    "...          'r-', lw=5, alpha=0.6, label='t pdf')"
   ]
  },
  {
   "cell_type": "code",
   "execution_count": 37,
   "metadata": {},
   "outputs": [
    {
     "data": {
      "text/plain": [
       "[<matplotlib.lines.Line2D at 0x17203434940>]"
      ]
     },
     "execution_count": 37,
     "metadata": {},
     "output_type": "execute_result"
    }
   ],
   "source": [
    "rv = t(df)\n",
    "ax.plot(x, rv.pdf(x), 'k-', lw=2, label='frozen pdf')"
   ]
  },
  {
   "cell_type": "code",
   "execution_count": 38,
   "metadata": {},
   "outputs": [
    {
     "data": {
      "text/plain": [
       "True"
      ]
     },
     "execution_count": 38,
     "metadata": {},
     "output_type": "execute_result"
    }
   ],
   "source": [
    "vals = t.ppf([0.001, 0.5, 0.999], df)\n",
    "np.allclose([0.001, 0.5, 0.999], t.cdf(vals, df))\n",
    "True"
   ]
  },
  {
   "cell_type": "code",
   "execution_count": 39,
   "metadata": {},
   "outputs": [],
   "source": [
    "r = t.rvs(df, size=3000)"
   ]
  },
  {
   "cell_type": "code",
   "execution_count": 40,
   "metadata": {},
   "outputs": [
    {
     "data": {
      "image/png": "[encoded data removed]",
      "text/plain": [
       "<matplotlib.figure.Figure at 0x1720dd52e48>"
      ]
     },
     "metadata": {},
     "output_type": "display_data"
    }
   ],
   "source": [
    "ax.hist(r, normed=True, histtype='stepfilled', alpha=0.2)\n",
    "ax.legend(loc='best', frameon=False)\n",
    "plt.show()"
   ]
  },
  {
   "cell_type": "code",
   "execution_count": null,
   "metadata": {},
   "outputs": [],
   "source": []
  }
 ],
 "metadata": {
  "kernelspec": {
   "display_name": "Python 3",
   "language": "python",
   "name": "python3"
  },
  "language_info": {
   "codemirror_mode": {
    "name": "ipython",
    "version": 3
   },
   "file_extension": ".py",
   "mimetype": "text/x-python",
   "name": "python",
   "nbconvert_exporter": "python",
   "pygments_lexer": "ipython3",
   "version": "3.6.5"
  }
 },
 "nbformat": 4,
 "nbformat_minor": 2
}
