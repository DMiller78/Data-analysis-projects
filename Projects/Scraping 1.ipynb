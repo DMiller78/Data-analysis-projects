{
 "cells": [
  {
   "cell_type": "code",
   "execution_count": 1,
   "metadata": {
    "collapsed": true
   },
   "outputs": [],
   "source": [
    "from bs4 import BeautifulSoup"
   ]
  },
  {
   "cell_type": "code",
   "execution_count": 2,
   "metadata": {
    "collapsed": true
   },
   "outputs": [],
   "source": [
    "import requests"
   ]
  },
  {
   "cell_type": "code",
   "execution_count": 9,
   "metadata": {
    "collapsed": true
   },
   "outputs": [],
   "source": [
    "url = \"http://sandhillschool.org\""
   ]
  },
  {
   "cell_type": "code",
   "execution_count": 10,
   "metadata": {
    "collapsed": true
   },
   "outputs": [],
   "source": [
    "response = requests.get(url)"
   ]
  },
  {
   "cell_type": "code",
   "execution_count": 11,
   "metadata": {
    "collapsed": true
   },
   "outputs": [],
   "source": [
    "data = response.text"
   ]
  },
  {
   "cell_type": "code",
   "execution_count": 12,
   "metadata": {
    "collapsed": true
   },
   "outputs": [],
   "source": [
    "soup = BeautifulSoup(data, 'html.parser')"
   ]
  },
  {
   "cell_type": "code",
   "execution_count": 13,
   "metadata": {
    "collapsed": true
   },
   "outputs": [],
   "source": [
    "tags = soup.find_all('a')"
   ]
  },
  {
   "cell_type": "code",
   "execution_count": 14,
   "metadata": {},
   "outputs": [
    {
     "name": "stdout",
     "output_type": "stream",
     "text": [
      "#content\n",
      "/parents/parent-login/\n",
      "https://www.facebook.com/sandhillschoolatchc\n",
      "https://twitter.com/CHC_paloalto\n",
      "https://www.youtube.com/user/chconlinepaloalto\n",
      "http://sandhillschool.org/\n",
      "http://sandhillschool.org/who-we-are/\n",
      "http://sandhillschool.org/why/\n",
      "http://sandhillschool.org/who-we-are/mission/\n",
      "http://sandhillschool.org/who-we-are/history/\n",
      "http://sandhillschool.org/who-we-are/at-a-glance/\n",
      "http://sandhillschool.org/who-we-are/staff-leadership/\n",
      "http://sandhillschool.org/sand-hill-approach/\n",
      "http://sandhillschool.org/parents/\n",
      "http://sandhillschool.org/visit/\n",
      "http://sandhillschool.org/alumni-testimonials/\n",
      "http://www.chconline.org/resourcelibrary/?utm_source=sandhill-topnav\n",
      "http://sandhillschool.org/parents/faq/\n",
      "http://sandhillschool.org/parents/parent-education/\n",
      "http://sandhillschool.org/parents/parent-login/\n",
      "http://sandhillschool.org/admissions/\n",
      "http://sandhillschool.org/summer/\n",
      "http://sandhillschool.org/admissions/process/\n",
      "http://sandhillschool.org/admissions/who-should-apply/\n",
      "http://sandhillschool.org/admissions/faq/\n",
      "http://sandhillschool.org/visit/\n",
      "http://sandhillschool.org/apply/\n",
      "http://sandhillschool.org/admissions/tuition/\n",
      "http://sandhillschool.org/transition/\n",
      "http://sandhillschool.org/transition/guidebook/\n",
      "http://sandhillschool.org/alumni-testimonials/\n",
      "/calendar\n",
      "/news/\n",
      "/sandbox/\n",
      "/donate\n",
      "http://sandhillschool.org/annualfund/\n",
      "http://sandhillschool.org/donate/\n",
      "http://sandhillschool.org/support/shop/\n",
      "http://sandhillschool.org/contact/\n",
      "http://sandhillschool.org/jobs/\n",
      "http://sandhillschool.org/impact-outcomes/\n",
      "http://sandhillschool.org/success/\n",
      "http://sandhillschool.org/alumni-testimonials/\n",
      "http://sandhillschool.org/\n",
      "http://sandhillschool.org/\n",
      "https://sandhillschool.org/annualfund/give/\n",
      "/apply/\n",
      "/summer/\n",
      "https://goo.gl/hhWEKW\n",
      "/annualfund/\n",
      "/apply/\n",
      "/news/chc-pen-joining-forces/\n",
      "/sand-hill-approach/\n",
      "/visit/\n",
      "/why/\n",
      "/visit/\n",
      "/apply/\n",
      "/apply/\n",
      "/visit/\n",
      "http://sandhillschool.org/calendar/?mc_id=359\n",
      "http://sandhillschool.org/calendar/?mc_id=317\n",
      "http://sandhillschool.org/calendar/?mc_id=318\n",
      "http://sandhillschool.org/calendar/?mc_id=355\n",
      "http://sandhillschool.org/calendar/?mc_id=321\n",
      "http://sandhillschool.org/calendar/?mc_id=257\n",
      "http://sandhillschool.org/calendar/?mc_id=347\n",
      "/calendar/\n",
      "http://sandhillschool.org/wp-content/uploads/2017/08/Sand-Hill-School-Calendar-2017-2018.pdf\n",
      "http://www.chconline.org/people/lisa-parnello/\n",
      "http://www.chconline.org/people/lisa-parnello/\n",
      "http://sandhillschool.org/who-we-are/history/\n",
      "http://sandhillschool.org/who-we-are/mission/\n",
      "http://sandhillschool.org/who-we-are/at-a-glance/\n",
      "http://sandhillschool.org/who-we-are/staff-leadership/\n",
      "http://www.chconline.org\n",
      "http://www.chconline.org/about/board/\n",
      "http://sandhillschool.org/schools-committee/\n",
      "http://www.chconline.org/resourcelibrary/\n",
      "http://sandhillschool.org/parents/faq/\n",
      "http://sandhillschool.org/parents/parent-login/\n",
      "http://sandhillschool.org/parents/parent-education/\n",
      "http://sandhillschool.org/admissions/\n",
      "http://sandhillschool.org/admissions/faq/\n",
      "http://sandhillschool.org/admissions/who-should-apply/\n",
      "http://sandhillschool.org/visit/\n",
      "http://sandhillschool.org/apply/\n",
      "http://sandhillschool.org/admissions/tuition/\n",
      "http://sandhillschool.org/alumni-testimonials/\n",
      "http://sandhillschool.org/donate/\n",
      "/calendar/fundraising-events/\n",
      "http://sandhillschool.org/?page_id=182\n",
      "http://sandhillschool.org/support/shop/\n",
      "http://sandhillschool.org/?page_id=826\n",
      "http://sandhillschool.org/contact/\n",
      "http://sandhillschool.org/visit/\n",
      "http://sandhillschool.org/jobs/\n",
      "http://maps.google.com/maps?f=q&source=embed&hl=en&geocode=&q=Children%27s+Health+Council%E2%80%8E+CA+94304&aq=&sll=37.441371,-122.173762&sspn=0.010733,0.033023&vpsrc=6&gl=us&ie=UTF8&hq=Children%27s+Health+Council%E2%80%8E&hnear=Palo+Alto,+California+94304&cid=2678617662777582320&ll=37.481397,-122.166252&spn=0.095355,0.145912&z=12&iwloc=A\n",
      "mailto:info@sandhillschool.org\n",
      "http://www.chconline.org/how-we-help/hipaa-and-your-privacy\n",
      "#scroll-top\n",
      "http://greatnonprofits.org/org/childrens-health-council-inc\n",
      "http://greatnonprofits.org/org/childrens-health-council-inc\n"
     ]
    }
   ],
   "source": [
    "for tag in tags:\n",
    "    print(tag.get('href'))"
   ]
  },
  {
   "cell_type": "code",
   "execution_count": 19,
   "metadata": {
    "collapsed": true
   },
   "outputs": [],
   "source": [
    "response = requests.get('http')"
   ]
  },
  {
   "cell_type": "code",
   "execution_count": 21,
   "metadata": {},
   "outputs": [
    {
     "name": "stdout",
     "output_type": "stream",
     "text": [
      "{'Server': 'nginx/1.12.2', 'Date': 'Sun, 25 Feb 2018 09:15:55 GMT', 'Content-Type': 'text/html; charset=UTF-8', 'Content-Length': '11759', 'Connection': 'keep-alive', 'Link': '<http://sandhillschool.org/wp-json/>; rel=\"https://api.w.org/\", <http://sandhillschool.org/>; rel=shortlink', 'Set-Cookie': 'wfvt_3657755133=5a927ecaad132; expires=Sun, 25-Feb-2018 09:45:54 GMT; path=/; httponly', 'Vary': 'User-Agent,Accept-Encoding', 'Content-Encoding': 'gzip'}\n"
     ]
    }
   ],
   "source": [
    "print(response.headers)"
   ]
  },
  {
   "cell_type": "code",
   "execution_count": null,
   "metadata": {
    "collapsed": true
   },
   "outputs": [],
   "source": []
  }
 ],
 "metadata": {
  "kernelspec": {
   "display_name": "Python 3",
   "language": "python",
   "name": "python3"
  },
  "language_info": {
   "codemirror_mode": {
    "name": "ipython",
    "version": 3
   },
   "file_extension": ".py",
   "mimetype": "text/x-python",
   "name": "python",
   "nbconvert_exporter": "python",
   "pygments_lexer": "ipython3",
   "version": "3.6.5"
  }
 },
 "nbformat": 4,
 "nbformat_minor": 2
}
