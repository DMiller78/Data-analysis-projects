{
 "cells": [
  {
   "cell_type": "code",
   "execution_count": 4,
   "metadata": {},
   "outputs": [],
   "source": [
    "#1) Simulate two random datasets using `np.random.normal`. The number of observations, and the parameters of the normal distribution are up to you.\n",
    "\t\n",
    "\n",
    "#2) Calculate the two-sample t-statistic and print it out\n"
   ]
  },
  {
   "cell_type": "code",
   "execution_count": 5,
   "metadata": {},
   "outputs": [],
   "source": [
    "import numpy as np\n",
    "import pandas as pd\n",
    "import matplotlib.pyplot as plt\n",
    "%matplotlib inline"
   ]
  },
  {
   "cell_type": "code",
   "execution_count": 12,
   "metadata": {},
   "outputs": [
    {
     "data": {
      "image/png": "[encoded data removed]",
      "text/plain": [
       "<matplotlib.figure.Figure at 0x23b3ed05080>"
      ]
     },
     "metadata": {},
     "output_type": "display_data"
    }
   ],
   "source": [
    "df1 = np.random.normal(10, 100, 500)\n",
    "df2 = np.random.normal(10, 100, 500) \n",
    "\n",
    "# Early life cylce, funnel in e-commerces \n",
    "# power \n",
    "\n",
    "# Let’s make histograms for the two groups. \n",
    "\n",
    "plt.hist(df1, alpha=0.5, label='Sample Population 1') \n",
    "plt.hist(df2, alpha=0.5, label='Sample Population 2') \n",
    "plt.legend(loc='upper right') \n",
    "plt.show()\n",
    "\n",
    "# alpha level of transparency "
   ]
  },
  {
   "cell_type": "code",
   "execution_count": 17,
   "metadata": {},
   "outputs": [
    {
     "name": "stdout",
     "output_type": "stream",
     "text": [
      "Mean Sample Population 1: 5.483657921454631\n",
      "Mean Sample Population 2: 18.52881120557313\n",
      "-------\n",
      "Std Sample Population 1: 106.94965454618143\n",
      "Std Sample Population 2: 96.5125461232757\n"
     ]
    }
   ],
   "source": [
    "print('Mean Sample Population 1:', df1.mean())\n",
    "print('Mean Sample Population 2:', df2.mean())\n",
    "print('-------')\n",
    "print('Std Sample Population 1:', df1.std())\n",
    "print('Std Sample Population 2:', df2.std())"
   ]
  },
  {
   "cell_type": "code",
   "execution_count": 19,
   "metadata": {},
   "outputs": [
    {
     "name": "stdout",
     "output_type": "stream",
     "text": [
      "Difference in Mean sample Populations: 13.0451532841185\n"
     ]
    }
   ],
   "source": [
    "diff=df2.mean( ) -df1.mean()\n",
    "print('Difference in Mean sample Populations:', diff)"
   ]
  },
  {
   "cell_type": "code",
   "execution_count": 24,
   "metadata": {},
   "outputs": [
    {
     "name": "stdout",
     "output_type": "stream",
     "text": [
      "Difference in means divided by std error - T-Value: 2.0248590165136964\n"
     ]
    }
   ],
   "source": [
    "size = np.array([len(df1), len(df2)])\n",
    "sd = np.array([df1.std(), df2.std()])\n",
    "\n",
    "diff_se = (sum(sd ** 2 / size)) ** 0.5  \n",
    "\n",
    "print('Difference in means divided by std error - T-Value:', diff/diff_se)"
   ]
  },
  {
   "cell_type": "code",
   "execution_count": 26,
   "metadata": {},
   "outputs": [
    {
     "name": "stdout",
     "output_type": "stream",
     "text": [
      "T-statistic and p-value for the 2 sample populations: Ttest_indResult(statistic=2.0228331440539775, pvalue=0.043359387128929505)\n"
     ]
    }
   ],
   "source": [
    "from scipy.stats import ttest_ind\n",
    "print('T-statistic and p-value for the 2 sample populations:', ttest_ind(df2, df1, equal_var=False))\n",
    "#null hypothesis the means are the same\n",
    "#alternate hypothesis means are difference \n",
    "# p-value the difference between observed means\n",
    "# p-value what is the probability of see the difference of the means were true this a relatively rare event. \n",
    "# Reject Null \n",
    "# 95 times out of 100 we don't reject the null \n",
    "# Statistical significance - statement would happen very infrequently "
   ]
  },
  {
   "cell_type": "code",
   "execution_count": 32,
   "metadata": {},
   "outputs": [
    {
     "data": {
      "text/plain": [
       "'The t-statistic of 2.022 falls within a 95% confidence interval. \\nIf this was a experimental test we would reject the Null Hypothesis Ho because the p value is less than 0.05. \\nWhen the p-value is less than 0.05 we accept the alternative Hypothesis Ha because this indicates a significant finding.'"
      ]
     },
     "execution_count": 32,
     "metadata": {},
     "output_type": "execute_result"
    }
   ],
   "source": [
    "\"\"\"The t-statistic of 2.022 falls within a 95% confidence interval. \n",
    "If this was a experimental test we would reject the Null Hypothesis Ho because the p value is less than 0.05. \n",
    "When the p-value is less than 0.05 we accept the alternative Hypothesis Ha because this indicates a significant finding.\"\"\""
   ]
  }
 ],
 "metadata": {
  "kernelspec": {
   "display_name": "Python 3",
   "language": "python",
   "name": "python3"
  },
  "language_info": {
   "codemirror_mode": {
    "name": "ipython",
    "version": 3
   },
   "file_extension": ".py",
   "mimetype": "text/x-python",
   "name": "python",
   "nbconvert_exporter": "python",
   "pygments_lexer": "ipython3",
   "version": "3.6.5"
  }
 },
 "nbformat": 4,
 "nbformat_minor": 2
}
